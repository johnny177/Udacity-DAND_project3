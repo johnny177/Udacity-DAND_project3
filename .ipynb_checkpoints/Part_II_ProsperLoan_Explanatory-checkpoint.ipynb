{
 "cells": [
  {
   "cell_type": "markdown",
   "metadata": {
    "slideshow": {
     "slide_type": "slide"
    }
   },
   "source": [
    "# Part II - Factors that Influences the ProsperLoans' LoanOriginalAmount\n",
    "## by John Ametepe Agboku"
   ]
  },
  {
   "cell_type": "markdown",
   "metadata": {
    "slideshow": {
     "slide_type": "slide"
    }
   },
   "source": [
    ">**Before you start**: You must have the README.md file ready that include a summary of main findings that reflects on the steps taken during the data exploration (Part I notebook). The README.md file should also describes the key insights that will be conveyed by the explanatory slide deck (Part II  outcome)\n",
    "\n",
    "\n",
    "\n",
    "## Investigation Overview\n",
    "\n",
    "\n",
    "> Describe the overall goals of your presentation here. Add a summary of key insights at the start of the notebook, just as you added in the README.md. This will help your notebook to stay aligned to the key insights you want to include in your slide deck.\n",
    "> Investigating the ProsperLoan dataset, i wanted to look at the factors that influences or determines the ProsperLoan LoanOriginalAmount. The main focus was on the BorrowerRate and the MonthlyLoanPayment.\n",
    ">\n",
    "> But it turns out that though the MonthlyLoanPayment explains approximately 92 percent of the variability in the LoanOriginalAmount i.e. the MonthlyLoanPayment has a strong influence in determining the LoanOriginalAmount, the BorrowerRate only influences the LoanOriginalAmount with an estimate of 41 percent which was unexpected because BorrowerRate was expected to have a strong relationship as MonthlyLoanPayment.\n",
    ">\n",
    "> This led into including Term of the Loan, ProsperRating (Alpha), ProsperScore, IsBorrowerHomeowner, and IncomeRange into our main focus.\n",
    "\n",
    "> **Rubric Tip**: The key insights in the slideshow must match those documented in the README.md summary. \n",
    "\n",
    "\n",
    "## Dataset Overview\n",
    "\n",
    "> The data contains 113,937 loan data with 81 features.\n",
    "> 14 features were selected and investigated but only 8 features were thoroughly investigated.\n",
    " > The loans data before July 2009 were removed because the features selected because some of the selected features do not have those data and to make the analysis unbiased they were removed.\n",
    " > The 14 features selected and investigated are:\n",
    "1. LoanOriginationDate\n",
    "2. Term\n",
    "3. BorrowerRate\n",
    "4. LoanOriginalAmount\n",
    "5. IncomeRange\n",
    "6. CurrentDelinquencies\n",
    "7. DelinquenciesLast7years\n",
    "8. ProsperRating (Alpha)\n",
    "9. Occupation\n",
    "10. EmploymentStatus\n",
    "11. IsBorrowerHomeowner\n",
    "12. MonthlyLoanPayment\n",
    "13. LoanStatus\n",
    "14. ProsperScore\n",
    "\n",
    "Which was later trimmed down to these 8 features\n",
    "1. Term\n",
    "2. BorrowerRate\n",
    "3. LoanOriginalAmount\n",
    "4. IncomeRange\n",
    "5. ProsperRating (Alpha)\n",
    "6. IsBorrowerHomeowner\n",
    "7. MonthlyLoanPayment\n",
    "8. ProsperScore"
   ]
  },
  {
   "cell_type": "code",
   "execution_count": 2,
   "metadata": {
    "slideshow": {
     "slide_type": "skip"
    }
   },
   "outputs": [],
   "source": [
    "# =import all packages and set plots to be embedded inline\n",
    "import numpy as np\n",
    "import pandas as pd\n",
    "import matplotlib.pyplot as plt\n",
    "import seaborn as sb\n",
    "\n",
    "%matplotlib inline\n",
    "\n",
    "# suppress warnings from final output\n",
    "import warnings\n",
    "warnings.simplefilter(\"ignore\")"
   ]
  },
  {
   "cell_type": "code",
   "execution_count": 3,
   "metadata": {
    "slideshow": {
     "slide_type": "skip"
    }
   },
   "outputs": [],
   "source": [
    "# load in the dataset into a pandas dataframe\n",
    "loans = pd.read_csv('prosperLoanData.csv')"
   ]
  },
  {
   "cell_type": "code",
   "execution_count": 6,
   "metadata": {
    "slideshow": {
     "slide_type": "skip"
    }
   },
   "outputs": [],
   "source": [
    "#stripping the data set down to only the features of interest\n",
    "columns_to_keep = [\"IsBorrowerHomeowner\",\"Term\",\"BorrowerRate\",\"LoanOriginationDate\", \"IncomeRange\",\"CurrentDelinquencies\",\"DelinquenciesLast7Years\",\"ProsperRating (Alpha)\",\"Occupation\",\"EmploymentStatus\",\"MonthlyLoanPayment\",\"LoanStatus\",\"ProsperScore\",\"LoanOriginalAmount\"]\n",
    "\n",
    "loans = loans[columns_to_keep]"
   ]
  },
  {
   "cell_type": "markdown",
   "metadata": {},
   "source": [
    "## Data Wrangling"
   ]
  },
  {
   "cell_type": "code",
   "execution_count": 7,
   "metadata": {
    "slideshow": {
     "slide_type": "skip"
    }
   },
   "outputs": [],
   "source": [
    "#convert Term, IncomeRange, ProsperRating (Alpha) and ProsperScore into categorical data types\n",
    "\n",
    "#convert prosperRating(Alpha) into ordered categorical types using ProsperRatingNumeric\n",
    "rating = [\"N/A\",\"HR\",\"E\",\"D\",\"C\",\"B\",\"A\",\"AA\"]\n",
    "ordered_rating = pd.api.types.CategoricalDtype(ordered=True,\n",
    "                                               categories=rating)\n",
    "loans[\"ProsperRating (Alpha)\"] = loans[\"ProsperRating (Alpha)\"].astype(ordered_rating)\n",
    "\n",
    "#Converting term into categorical data type\n",
    "loans['Term'] = loans['Term'].astype(pd.CategoricalDtype(ordered=True))\n",
    "\n",
    "#converting the IncomeRange into ordered categorical dtypes\n",
    "range_list = ['Not displayed','Not employed','$0','$1-24,999','$25,000-49,999','$50,000-74,999','$75,000-99,999','$100,000+']\n",
    "ordered_range = pd.api.types.CategoricalDtype(ordered=True, categories=range_list)\n",
    "loans['IncomeRange'] = loans['IncomeRange'].astype(ordered_range)\n",
    "\n",
    "#converting ProsperScore into categorical datatype\n",
    "loans['ProsperScore'] = loans['ProsperScore'].astype(pd.CategoricalDtype(ordered=True))\n",
    "\n",
    "#convert LoanOriginationDate into Datetime variable type\n",
    "loans[\"LoanOriginationDate\"] = loans[\"LoanOriginationDate\"].astype(np.Datetime64)"
   ]
  },
  {
   "cell_type": "code",
   "execution_count": 8,
   "metadata": {},
   "outputs": [
    {
     "name": "stdout",
     "output_type": "stream",
     "text": [
      "<class 'pandas.core.frame.DataFrame'>\n",
      "Int64Index: 84853 entries, 1 to 113936\n",
      "Data columns (total 14 columns):\n",
      " #   Column                   Non-Null Count  Dtype         \n",
      "---  ------                   --------------  -----         \n",
      " 0   IsBorrowerHomeowner      84853 non-null  bool          \n",
      " 1   Term                     84853 non-null  category      \n",
      " 2   BorrowerRate             84853 non-null  float64       \n",
      " 3   LoanOriginationDate      84853 non-null  datetime64[ns]\n",
      " 4   IncomeRange              84853 non-null  category      \n",
      " 5   CurrentDelinquencies     84853 non-null  float64       \n",
      " 6   DelinquenciesLast7Years  84853 non-null  float64       \n",
      " 7   ProsperRating (Alpha)    84853 non-null  category      \n",
      " 8   Occupation               83520 non-null  object        \n",
      " 9   EmploymentStatus         84853 non-null  object        \n",
      " 10  MonthlyLoanPayment       84853 non-null  float64       \n",
      " 11  LoanStatus               84853 non-null  object        \n",
      " 12  ProsperScore             84853 non-null  category      \n",
      " 13  LoanOriginalAmount       84853 non-null  int64         \n",
      "dtypes: bool(1), category(4), datetime64[ns](1), float64(4), int64(1), object(3)\n",
      "memory usage: 6.9+ MB\n"
     ]
    }
   ],
   "source": [
    "#the dataframe with loans that originated after july 2009\n",
    "loans = loans[~loans['ProsperScore'].isna() & ~loans['ProsperRating (Alpha)'].isna()]\n",
    "loans.info()"
   ]
  },
  {
   "cell_type": "code",
   "execution_count": 9,
   "metadata": {},
   "outputs": [
    {
     "data": {
      "text/html": [
       "<div>\n",
       "<style scoped>\n",
       "    .dataframe tbody tr th:only-of-type {\n",
       "        vertical-align: middle;\n",
       "    }\n",
       "\n",
       "    .dataframe tbody tr th {\n",
       "        vertical-align: top;\n",
       "    }\n",
       "\n",
       "    .dataframe thead th {\n",
       "        text-align: right;\n",
       "    }\n",
       "</style>\n",
       "<table border=\"1\" class=\"dataframe\">\n",
       "  <thead>\n",
       "    <tr style=\"text-align: right;\">\n",
       "      <th></th>\n",
       "      <th>BorrowerRate</th>\n",
       "      <th>CurrentDelinquencies</th>\n",
       "      <th>DelinquenciesLast7Years</th>\n",
       "      <th>MonthlyLoanPayment</th>\n",
       "      <th>LoanOriginalAmount</th>\n",
       "    </tr>\n",
       "  </thead>\n",
       "  <tbody>\n",
       "    <tr>\n",
       "      <th>count</th>\n",
       "      <td>84853.000000</td>\n",
       "      <td>84853.000000</td>\n",
       "      <td>84853.000000</td>\n",
       "      <td>84853.000000</td>\n",
       "      <td>84853.000000</td>\n",
       "    </tr>\n",
       "    <tr>\n",
       "      <th>mean</th>\n",
       "      <td>0.196022</td>\n",
       "      <td>0.322452</td>\n",
       "      <td>3.659435</td>\n",
       "      <td>291.930720</td>\n",
       "      <td>9083.440515</td>\n",
       "    </tr>\n",
       "    <tr>\n",
       "      <th>std</th>\n",
       "      <td>0.074631</td>\n",
       "      <td>1.111996</td>\n",
       "      <td>9.347957</td>\n",
       "      <td>186.678314</td>\n",
       "      <td>6287.860058</td>\n",
       "    </tr>\n",
       "    <tr>\n",
       "      <th>min</th>\n",
       "      <td>0.040000</td>\n",
       "      <td>0.000000</td>\n",
       "      <td>0.000000</td>\n",
       "      <td>0.000000</td>\n",
       "      <td>1000.000000</td>\n",
       "    </tr>\n",
       "    <tr>\n",
       "      <th>25%</th>\n",
       "      <td>0.135900</td>\n",
       "      <td>0.000000</td>\n",
       "      <td>0.000000</td>\n",
       "      <td>157.330000</td>\n",
       "      <td>4000.000000</td>\n",
       "    </tr>\n",
       "    <tr>\n",
       "      <th>50%</th>\n",
       "      <td>0.187500</td>\n",
       "      <td>0.000000</td>\n",
       "      <td>0.000000</td>\n",
       "      <td>251.940000</td>\n",
       "      <td>7500.000000</td>\n",
       "    </tr>\n",
       "    <tr>\n",
       "      <th>75%</th>\n",
       "      <td>0.257400</td>\n",
       "      <td>0.000000</td>\n",
       "      <td>2.000000</td>\n",
       "      <td>388.350000</td>\n",
       "      <td>13500.000000</td>\n",
       "    </tr>\n",
       "    <tr>\n",
       "      <th>max</th>\n",
       "      <td>0.360000</td>\n",
       "      <td>51.000000</td>\n",
       "      <td>99.000000</td>\n",
       "      <td>2251.510000</td>\n",
       "      <td>35000.000000</td>\n",
       "    </tr>\n",
       "  </tbody>\n",
       "</table>\n",
       "</div>"
      ],
      "text/plain": [
       "       BorrowerRate  CurrentDelinquencies  DelinquenciesLast7Years  \\\n",
       "count  84853.000000          84853.000000             84853.000000   \n",
       "mean       0.196022              0.322452                 3.659435   \n",
       "std        0.074631              1.111996                 9.347957   \n",
       "min        0.040000              0.000000                 0.000000   \n",
       "25%        0.135900              0.000000                 0.000000   \n",
       "50%        0.187500              0.000000                 0.000000   \n",
       "75%        0.257400              0.000000                 2.000000   \n",
       "max        0.360000             51.000000                99.000000   \n",
       "\n",
       "       MonthlyLoanPayment  LoanOriginalAmount  \n",
       "count        84853.000000        84853.000000  \n",
       "mean           291.930720         9083.440515  \n",
       "std            186.678314         6287.860058  \n",
       "min              0.000000         1000.000000  \n",
       "25%            157.330000         4000.000000  \n",
       "50%            251.940000         7500.000000  \n",
       "75%            388.350000        13500.000000  \n",
       "max           2251.510000        35000.000000  "
      ]
     },
     "execution_count": 9,
     "metadata": {},
     "output_type": "execute_result"
    }
   ],
   "source": [
    "loans.describe()"
   ]
  },
  {
   "cell_type": "markdown",
   "metadata": {
    "slideshow": {
     "slide_type": "slide"
    }
   },
   "source": [
    "## Distribution of LoanOriginalAmount\n",
    "\n",
    "> The LoanOriginalAmount has values that ranges from 1,000 to 35,000. Using a log transformation to plot a h, most of the loans are concentrated around 5,000\n",
    "\n",
    "> **Rubric Tip**: Provide at least 3 **polished** visualizations to convey key insights. The total number of visualizations in the slideshow shoould be less than 50% of the number of visualizations in the exploratory analysis. For example, if the exploratory analysis (Part I) has 18 visualizations, the slideshow can have (3 - 8) visualizations. \n",
    "\n",
    "\n",
    "> **Rubric Tip**: Each visualization in the slideshow is associated with **descriptive comments** that accurately depict their purpose and your observation. \n",
    "\n",
    "\n",
    "> **Rubric Tip**: All plots in the slideshow are appropriate, meaning the plot type, encodings, and transformations are suitable to the underlying data. \n",
    "\n",
    "> **Rubric Tip**: All plots in the slideshow are polished, meaning all plots have a title, labeled x/y axes (with units), x/y ticks, and legends. "
   ]
  },
  {
   "cell_type": "code",
   "execution_count": null,
   "metadata": {
    "slideshow": {
     "slide_type": "subslide"
    }
   },
   "outputs": [],
   "source": []
  },
  {
   "cell_type": "markdown",
   "metadata": {
    "collapsed": true,
    "slideshow": {
     "slide_type": "slide"
    }
   },
   "source": [
    "## (Visualization 2)\n",
    "\n",
    "> You should have at least three visualizations in your presentation,\n",
    "but feel free to add more if you'd like!"
   ]
  },
  {
   "cell_type": "code",
   "execution_count": null,
   "metadata": {
    "slideshow": {
     "slide_type": "subslide"
    }
   },
   "outputs": [],
   "source": []
  },
  {
   "cell_type": "markdown",
   "metadata": {
    "slideshow": {
     "slide_type": "slide"
    }
   },
   "source": [
    "## (Visualization 3)\n",
    "\n"
   ]
  },
  {
   "cell_type": "code",
   "execution_count": null,
   "metadata": {
    "slideshow": {
     "slide_type": "subslide"
    }
   },
   "outputs": [],
   "source": []
  },
  {
   "cell_type": "markdown",
   "metadata": {
    "slideshow": {
     "slide_type": "notes"
    }
   },
   "source": [
    ">**Generate Slideshow**: Once you're ready to generate your slideshow, use the `jupyter nbconvert` command to generate the HTML slide show. . From the terminal or command line, use the following expression."
   ]
  },
  {
   "cell_type": "code",
   "execution_count": null,
   "metadata": {
    "slideshow": {
     "slide_type": "skip"
    }
   },
   "outputs": [],
   "source": [
    "!jupyter nbconvert <Part_II_Filename>.ipynb --to slides --post serve --no-input --no-prompt"
   ]
  },
  {
   "cell_type": "markdown",
   "metadata": {
    "slideshow": {
     "slide_type": "notes"
    }
   },
   "source": [
    "> This should open a tab in your web browser where you can scroll through your presentation. Sub-slides can be accessed by pressing 'down' when viewing its parent slide. Make sure you remove all of the quote-formatted guide notes like this one before you finish your presentation! At last, you can stop the Kernel. "
   ]
  },
  {
   "cell_type": "code",
   "execution_count": null,
   "metadata": {},
   "outputs": [],
   "source": []
  }
 ],
 "metadata": {
  "celltoolbar": "Slideshow",
  "kernelspec": {
   "display_name": "Python 3 (ipykernel)",
   "language": "python",
   "name": "python3"
  },
  "language_info": {
   "codemirror_mode": {
    "name": "ipython",
    "version": 3
   },
   "file_extension": ".py",
   "mimetype": "text/x-python",
   "name": "python",
   "nbconvert_exporter": "python",
   "pygments_lexer": "ipython3",
   "version": "3.9.12"
  }
 },
 "nbformat": 4,
 "nbformat_minor": 2
}
